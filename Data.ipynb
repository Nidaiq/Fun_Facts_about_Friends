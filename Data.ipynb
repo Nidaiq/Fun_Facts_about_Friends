{
 "cells": [
  {
   "cell_type": "code",
   "execution_count": 1,
   "metadata": {},
   "outputs": [],
   "source": [
    "import pandas as pd\n",
    "import numpy as np\n",
    "import matplotlib as plt\n",
    "%matplotlib inline"
   ]
  },
  {
   "cell_type": "code",
   "execution_count": 4,
   "metadata": {},
   "outputs": [
    {
     "data": {
      "text/html": [
       "<div>\n",
       "<style scoped>\n",
       "    .dataframe tbody tr th:only-of-type {\n",
       "        vertical-align: middle;\n",
       "    }\n",
       "\n",
       "    .dataframe tbody tr th {\n",
       "        vertical-align: top;\n",
       "    }\n",
       "\n",
       "    .dataframe thead th {\n",
       "        text-align: right;\n",
       "    }\n",
       "</style>\n",
       "<table border=\"1\" class=\"dataframe\">\n",
       "  <thead>\n",
       "    <tr style=\"text-align: right;\">\n",
       "      <th></th>\n",
       "      <th>season</th>\n",
       "      <th>episode_num_in_season</th>\n",
       "      <th>episode_num_overall</th>\n",
       "      <th>title</th>\n",
       "      <th>directed_by</th>\n",
       "      <th>written_by</th>\n",
       "      <th>original_air_date</th>\n",
       "      <th>prod_code</th>\n",
       "      <th>us_viewers</th>\n",
       "    </tr>\n",
       "  </thead>\n",
       "  <tbody>\n",
       "    <tr>\n",
       "      <th>0</th>\n",
       "      <td>1</td>\n",
       "      <td>1</td>\n",
       "      <td>1</td>\n",
       "      <td>The One Where Monica Gets a Roommate</td>\n",
       "      <td>James Burrows</td>\n",
       "      <td>David Crane &amp; Marta Kauffman</td>\n",
       "      <td>1994-09-22</td>\n",
       "      <td>456650</td>\n",
       "      <td>21500000.0</td>\n",
       "    </tr>\n",
       "    <tr>\n",
       "      <th>1</th>\n",
       "      <td>1</td>\n",
       "      <td>2</td>\n",
       "      <td>2</td>\n",
       "      <td>The One with the Sonogram at the End</td>\n",
       "      <td>James Burrows</td>\n",
       "      <td>David Crane &amp; Marta Kauffman</td>\n",
       "      <td>1994-09-29</td>\n",
       "      <td>456652</td>\n",
       "      <td>20200000.0</td>\n",
       "    </tr>\n",
       "    <tr>\n",
       "      <th>2</th>\n",
       "      <td>1</td>\n",
       "      <td>3</td>\n",
       "      <td>3</td>\n",
       "      <td>The One with the Thumb</td>\n",
       "      <td>James Burrows</td>\n",
       "      <td>Jeffrey Astrof &amp; Mike Sikowitz</td>\n",
       "      <td>1994-10-06</td>\n",
       "      <td>456651</td>\n",
       "      <td>19500000.0</td>\n",
       "    </tr>\n",
       "    <tr>\n",
       "      <th>3</th>\n",
       "      <td>1</td>\n",
       "      <td>4</td>\n",
       "      <td>4</td>\n",
       "      <td>The One with George Stephanopoulos</td>\n",
       "      <td>James Burrows</td>\n",
       "      <td>Alexa Junge</td>\n",
       "      <td>1994-10-13</td>\n",
       "      <td>456654</td>\n",
       "      <td>19700000.0</td>\n",
       "    </tr>\n",
       "    <tr>\n",
       "      <th>4</th>\n",
       "      <td>1</td>\n",
       "      <td>5</td>\n",
       "      <td>5</td>\n",
       "      <td>The One with the East German Laundry Detergent</td>\n",
       "      <td>Pamela Fryman</td>\n",
       "      <td>Jeff Greenstein &amp; Jeff Strauss</td>\n",
       "      <td>1994-10-20</td>\n",
       "      <td>456653</td>\n",
       "      <td>18600000.0</td>\n",
       "    </tr>\n",
       "  </tbody>\n",
       "</table>\n",
       "</div>"
      ],
      "text/plain": [
       "   season  episode_num_in_season  episode_num_overall  \\\n",
       "0       1                      1                    1   \n",
       "1       1                      2                    2   \n",
       "2       1                      3                    3   \n",
       "3       1                      4                    4   \n",
       "4       1                      5                    5   \n",
       "\n",
       "                                            title    directed_by  \\\n",
       "0            The One Where Monica Gets a Roommate  James Burrows   \n",
       "1            The One with the Sonogram at the End  James Burrows   \n",
       "2                          The One with the Thumb  James Burrows   \n",
       "3              The One with George Stephanopoulos  James Burrows   \n",
       "4  The One with the East German Laundry Detergent  Pamela Fryman   \n",
       "\n",
       "                       written_by original_air_date prod_code  us_viewers  \n",
       "0    David Crane & Marta Kauffman        1994-09-22    456650  21500000.0  \n",
       "1    David Crane & Marta Kauffman        1994-09-29    456652  20200000.0  \n",
       "2  Jeffrey Astrof & Mike Sikowitz        1994-10-06    456651  19500000.0  \n",
       "3                     Alexa Junge        1994-10-13    456654  19700000.0  \n",
       "4  Jeff Greenstein & Jeff Strauss        1994-10-20    456653  18600000.0  "
      ]
     },
     "execution_count": 4,
     "metadata": {},
     "output_type": "execute_result"
    }
   ],
   "source": [
    "episode_df = pd.read_csv('/Users/nidaiqbal/Project/Fun_Facts_about_Friends/Resources/friends_episodes.csv')\n",
    "episode_df.head()"
   ]
  },
  {
   "cell_type": "code",
   "execution_count": 5,
   "metadata": {},
   "outputs": [
    {
     "data": {
      "text/html": [
       "<div>\n",
       "<style scoped>\n",
       "    .dataframe tbody tr th:only-of-type {\n",
       "        vertical-align: middle;\n",
       "    }\n",
       "\n",
       "    .dataframe tbody tr th {\n",
       "        vertical-align: top;\n",
       "    }\n",
       "\n",
       "    .dataframe thead th {\n",
       "        text-align: right;\n",
       "    }\n",
       "</style>\n",
       "<table border=\"1\" class=\"dataframe\">\n",
       "  <thead>\n",
       "    <tr style=\"text-align: right;\">\n",
       "      <th></th>\n",
       "      <th>season</th>\n",
       "      <th>episode_num</th>\n",
       "      <th>title</th>\n",
       "      <th>original_air_date</th>\n",
       "      <th>imdb_rating</th>\n",
       "      <th>total_votes</th>\n",
       "      <th>desc</th>\n",
       "    </tr>\n",
       "  </thead>\n",
       "  <tbody>\n",
       "    <tr>\n",
       "      <th>0</th>\n",
       "      <td>1</td>\n",
       "      <td>1</td>\n",
       "      <td>The One Where Monica Gets a Roommate</td>\n",
       "      <td>22 Sep. 1994</td>\n",
       "      <td>8.3</td>\n",
       "      <td>8378</td>\n",
       "      <td>Monica and the gang introduce Rachel to the \"r...</td>\n",
       "    </tr>\n",
       "    <tr>\n",
       "      <th>1</th>\n",
       "      <td>1</td>\n",
       "      <td>2</td>\n",
       "      <td>The One with the Sonogram at the End</td>\n",
       "      <td>29 Sep. 1994</td>\n",
       "      <td>8.0</td>\n",
       "      <td>6441</td>\n",
       "      <td>Ross finds out his ex-wife is pregnant. Rachel...</td>\n",
       "    </tr>\n",
       "    <tr>\n",
       "      <th>2</th>\n",
       "      <td>1</td>\n",
       "      <td>3</td>\n",
       "      <td>The One with the Thumb</td>\n",
       "      <td>6 Oct. 1994</td>\n",
       "      <td>8.1</td>\n",
       "      <td>6060</td>\n",
       "      <td>Monica becomes irritated when everyone likes h...</td>\n",
       "    </tr>\n",
       "    <tr>\n",
       "      <th>3</th>\n",
       "      <td>1</td>\n",
       "      <td>4</td>\n",
       "      <td>The One with George Stephanopoulos</td>\n",
       "      <td>13 Oct. 1994</td>\n",
       "      <td>8.1</td>\n",
       "      <td>5892</td>\n",
       "      <td>Joey and Chandler take Ross to a hockey game t...</td>\n",
       "    </tr>\n",
       "    <tr>\n",
       "      <th>4</th>\n",
       "      <td>1</td>\n",
       "      <td>5</td>\n",
       "      <td>The One with the East German Laundry Detergent</td>\n",
       "      <td>20 Oct. 1994</td>\n",
       "      <td>8.4</td>\n",
       "      <td>5872</td>\n",
       "      <td>Eager to spend time with Rachel, Ross pretends...</td>\n",
       "    </tr>\n",
       "  </tbody>\n",
       "</table>\n",
       "</div>"
      ],
      "text/plain": [
       "   season  episode_num                                           title  \\\n",
       "0       1            1            The One Where Monica Gets a Roommate   \n",
       "1       1            2            The One with the Sonogram at the End   \n",
       "2       1            3                          The One with the Thumb   \n",
       "3       1            4              The One with George Stephanopoulos   \n",
       "4       1            5  The One with the East German Laundry Detergent   \n",
       "\n",
       "  original_air_date  imdb_rating  total_votes  \\\n",
       "0      22 Sep. 1994          8.3         8378   \n",
       "1      29 Sep. 1994          8.0         6441   \n",
       "2       6 Oct. 1994          8.1         6060   \n",
       "3      13 Oct. 1994          8.1         5892   \n",
       "4      20 Oct. 1994          8.4         5872   \n",
       "\n",
       "                                                desc  \n",
       "0  Monica and the gang introduce Rachel to the \"r...  \n",
       "1  Ross finds out his ex-wife is pregnant. Rachel...  \n",
       "2  Monica becomes irritated when everyone likes h...  \n",
       "3  Joey and Chandler take Ross to a hockey game t...  \n",
       "4  Eager to spend time with Rachel, Ross pretends...  "
      ]
     },
     "execution_count": 5,
     "metadata": {},
     "output_type": "execute_result"
    }
   ],
   "source": [
    "imbd_df = pd.read_csv('/Users/nidaiqbal/Project/Fun_Facts_about_Friends/Resources/friends_imdb.csv')\n",
    "imbd_df.head()"
   ]
  },
  {
   "cell_type": "code",
   "execution_count": 10,
   "metadata": {},
   "outputs": [
    {
     "name": "stdout",
     "output_type": "stream",
     "text": [
      "<class 'pandas.core.frame.DataFrame'>\n",
      "RangeIndex: 236 entries, 0 to 235\n",
      "Data columns (total 9 columns):\n",
      " #   Column                 Non-Null Count  Dtype  \n",
      "---  ------                 --------------  -----  \n",
      " 0   season                 236 non-null    int64  \n",
      " 1   episode_num_in_season  236 non-null    int64  \n",
      " 2   episode_num_overall    236 non-null    int64  \n",
      " 3   title                  236 non-null    object \n",
      " 4   directed_by            236 non-null    object \n",
      " 5   written_by             236 non-null    object \n",
      " 6   original_air_date      236 non-null    object \n",
      " 7   prod_code              236 non-null    object \n",
      " 8   us_viewers             236 non-null    float64\n",
      "dtypes: float64(1), int64(3), object(5)\n",
      "memory usage: 16.7+ KB\n",
      "<class 'pandas.core.frame.DataFrame'>\n",
      "RangeIndex: 235 entries, 0 to 234\n",
      "Data columns (total 7 columns):\n",
      " #   Column             Non-Null Count  Dtype  \n",
      "---  ------             --------------  -----  \n",
      " 0   season             235 non-null    int64  \n",
      " 1   episode_num        235 non-null    int64  \n",
      " 2   title              235 non-null    object \n",
      " 3   original_air_date  235 non-null    object \n",
      " 4   imdb_rating        235 non-null    float64\n",
      " 5   total_votes        235 non-null    int64  \n",
      " 6   desc               235 non-null    object \n",
      "dtypes: float64(1), int64(3), object(3)\n",
      "memory usage: 13.0+ KB\n"
     ]
    }
   ],
   "source": [
    "episode_df.info()\n",
    "imbd_df.info()"
   ]
  },
  {
   "cell_type": "code",
   "execution_count": 13,
   "metadata": {},
   "outputs": [
    {
     "data": {
      "text/plain": [
       "season                   0\n",
       "episode_num_in_season    0\n",
       "episode_num_overall      0\n",
       "title                    0\n",
       "directed_by              0\n",
       "written_by               0\n",
       "original_air_date        0\n",
       "prod_code                0\n",
       "us_viewers               0\n",
       "dtype: int64"
      ]
     },
     "execution_count": 13,
     "metadata": {},
     "output_type": "execute_result"
    }
   ],
   "source": [
    "episode_df.isna().sum()"
   ]
  },
  {
   "cell_type": "code",
   "execution_count": 14,
   "metadata": {},
   "outputs": [
    {
     "data": {
      "text/plain": [
       "season               0\n",
       "episode_num          0\n",
       "title                0\n",
       "original_air_date    0\n",
       "imdb_rating          0\n",
       "total_votes          0\n",
       "desc                 0\n",
       "dtype: int64"
      ]
     },
     "execution_count": 14,
     "metadata": {},
     "output_type": "execute_result"
    }
   ],
   "source": [
    "imbd_df.isna().sum()"
   ]
  },
  {
   "cell_type": "code",
   "execution_count": 17,
   "metadata": {},
   "outputs": [
    {
     "data": {
      "text/plain": [
       "season\n",
       "1     24\n",
       "2     24\n",
       "3     25\n",
       "4     24\n",
       "5     24\n",
       "6     25\n",
       "7     24\n",
       "8     24\n",
       "9     24\n",
       "10    18\n",
       "dtype: int64"
      ]
     },
     "execution_count": 17,
     "metadata": {},
     "output_type": "execute_result"
    }
   ],
   "source": [
    "episode_df.value_counts('season').sort_index()"
   ]
  },
  {
   "cell_type": "code",
   "execution_count": 18,
   "metadata": {},
   "outputs": [
    {
     "data": {
      "text/plain": [
       "season\n",
       "1     24\n",
       "2     24\n",
       "3     25\n",
       "4     24\n",
       "5     24\n",
       "6     25\n",
       "7     24\n",
       "8     24\n",
       "9     24\n",
       "10    17\n",
       "dtype: int64"
      ]
     },
     "execution_count": 18,
     "metadata": {},
     "output_type": "execute_result"
    }
   ],
   "source": [
    "imbd_df.value_counts('season').sort_index()"
   ]
  },
  {
   "cell_type": "code",
   "execution_count": null,
   "metadata": {},
   "outputs": [],
   "source": []
  }
 ],
 "metadata": {
  "kernelspec": {
   "display_name": "PythonData",
   "language": "python",
   "name": "pythondata"
  },
  "language_info": {
   "codemirror_mode": {
    "name": "ipython",
    "version": 3
   },
   "file_extension": ".py",
   "mimetype": "text/x-python",
   "name": "python",
   "nbconvert_exporter": "python",
   "pygments_lexer": "ipython3",
   "version": "3.8.5"
  }
 },
 "nbformat": 4,
 "nbformat_minor": 4
}
